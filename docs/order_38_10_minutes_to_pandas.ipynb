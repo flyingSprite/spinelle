{
 "cells": [
  {
   "cell_type": "code",
   "execution_count": 6,
   "metadata": {},
   "outputs": [],
   "source": [
    "import pandas as pd\n",
    "import numpy as np\n",
    "import numpy as np\n",
    "\n",
    "\"\"\"10 Minutes to Pandas: http://pandas.pydata.org/pandas-docs/stable/10min.html#missing-data\"\"\""
   ]
  },
  {
   "cell_type": "code",
   "execution_count": 10,
   "metadata": {},
   "outputs": [
    {
     "name": "stdout",
     "output_type": "stream",
     "text": [
      "\n",
      "+=== Series Data: \n",
      " 0    1.0\n",
      "1    3.0\n",
      "2    5.0\n",
      "3    NaN\n",
      "4    6.0\n",
      "5    8.0\n",
      "dtype: float64\n",
      "\n",
      "+=== Date Data: \n",
      " DatetimeIndex(['2013-02-25', '2013-02-26', '2013-02-27', '2013-02-28',\n",
      "               '2013-03-01', '2013-03-02', '2013-03-03', '2013-03-04',\n",
      "               '2013-03-05', '2013-03-06'],\n",
      "              dtype='datetime64[ns]', freq='D')\n",
      "\n",
      "+=== Format Data: \n",
      "                    A         B         C         D\n",
      "2013-02-25 -0.755183 -0.439099  0.813443  0.857752\n",
      "2013-02-26 -1.249660  0.814302  1.990709 -0.157628\n",
      "2013-02-27  0.526760  0.929925  0.964072 -0.359067\n",
      "2013-02-28  0.306247 -1.511175 -1.624761  2.425227\n",
      "2013-03-01 -0.118518  1.680840 -0.402285  0.419691\n",
      "2013-03-02  0.002101  0.290451 -1.967658  0.550275\n",
      "2013-03-03 -1.647712 -1.078914  0.760403  0.285393\n",
      "2013-03-04 -0.249252 -0.907662 -0.573038  1.419705\n",
      "2013-03-05  0.183481 -1.047029  0.785409 -1.198046\n",
      "2013-03-06  0.241400  0.204189 -0.069402 -0.703866\n"
     ]
    }
   ],
   "source": [
    "# Letting pandas create a default Interge index.\n",
    "import pandas as pd\n",
    "import numpy as np\n",
    "\n",
    "# Series data\n",
    "obj1 = pd.Series([1, 3, 5, np.nan, 6, 8])\n",
    "print('\\n+=== Series Data: \\n', obj1)\n",
    "\n",
    "# Date data\n",
    "obj2 = pd.date_range(\"20130225\", periods=10)\n",
    "print('\\n+=== Date Data: \\n', obj2)\n",
    "\n",
    "# Format data\n",
    "obj3 = pd.DataFrame(np.random.randn(10,4), index=obj2, columns=list('ABCD'))\n",
    "print('\\n+=== Format Data: \\n', obj3)"
   ]
  },
  {
   "cell_type": "code",
   "execution_count": null,
   "metadata": {},
   "outputs": [],
   "source": []
  }
 ],
 "metadata": {
  "kernelspec": {
   "display_name": "Python 3",
   "language": "python",
   "name": "python3"
  },
  "language_info": {
   "codemirror_mode": {
    "name": "ipython",
    "version": 3
   },
   "file_extension": ".py",
   "mimetype": "text/x-python",
   "name": "python",
   "nbconvert_exporter": "python",
   "pygments_lexer": "ipython3",
   "version": "3.6.1"
  }
 },
 "nbformat": 4,
 "nbformat_minor": 2
}
