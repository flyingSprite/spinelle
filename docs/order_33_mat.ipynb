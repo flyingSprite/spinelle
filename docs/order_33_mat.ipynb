{
 "cells": [
  {
   "cell_type": "code",
   "execution_count": null,
   "metadata": {
    "collapsed": true
   },
   "outputs": [],
   "source": [
    "import pylab as lib\n",
    "\n",
    "x_values = lib.arange(0.0, lib.math.pi * 4, 0.01)\n",
    "y_values = lib.sin(x_values)\n",
    "lib.plot(x_values, y_values, linewidth=1.0)\n",
    "lib.xlabel('x')\n",
    "lib.ylabel('sin(x)')\n",
    "lib.title('Simple plot')\n",
    "# If show grid lines in chart\n",
    "lib.grid(True)\n",
    "# lib.savefig(\"sin.png\")\n",
    "lib.show()"
   ]
  }
 ],
 "metadata": {
  "kernelspec": {
   "display_name": "Python 2",
   "language": "python",
   "name": "python2"
  },
  "language_info": {
   "codemirror_mode": {
    "name": "ipython",
    "version": 2
   },
   "file_extension": ".py",
   "mimetype": "text/x-python",
   "name": "python",
   "nbconvert_exporter": "python",
   "pygments_lexer": "ipython2",
   "version": "2.7.6"
  }
 },
 "nbformat": 4,
 "nbformat_minor": 0
}
